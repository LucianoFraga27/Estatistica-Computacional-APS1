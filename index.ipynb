{
  "nbformat": 4,
  "nbformat_minor": 0,
  "metadata": {
    "colab": {
      "name": "index.ipynb",
      "provenance": [],
      "collapsed_sections": [],
      "authorship_tag": "ABX9TyNWfQrKi+nB+8feuIsWpGMq",
      "include_colab_link": true
    },
    "kernelspec": {
      "name": "python3",
      "display_name": "Python 3"
    },
    "language_info": {
      "name": "python"
    }
  },
  "cells": [
    {
      "cell_type": "markdown",
      "metadata": {
        "id": "view-in-github",
        "colab_type": "text"
      },
      "source": [
        "<a href=\"https://colab.research.google.com/github/LucianoFraga27/Estatistica-Computacional-APS1/blob/main/index.ipynb\" target=\"_parent\"><img src=\"https://colab.research.google.com/assets/colab-badge.svg\" alt=\"Open In Colab\"/></a>"
      ]
    },
    {
      "cell_type": "code",
      "execution_count": 1,
      "metadata": {
        "id": "3LW2WhFr_7Ih"
      },
      "outputs": [],
      "source": [
        "# APS1 - Estatística Computacional - Professor: Charles Santiago Bastos.\n",
        "#\n",
        "# Aluno: Luciano Fraga Lopes; Matrícula: 20102775."
      ]
    },
    {
      "cell_type": "code",
      "source": [
        "\n"
      ],
      "metadata": {
        "id": "wMxi6eJdBoBu"
      },
      "execution_count": null,
      "outputs": []
    },
    {
      "cell_type": "code",
      "source": [
        "# Listando valores para teste\n",
        "\n",
        "valores = [3, 4, 4, 4, 5, 5, 5, 5, 6, 6, 6, 6, 6, 6, 7, 7, 7, 7, 7, 8, 8, 8, 8, 9, 9]\n"
      ],
      "metadata": {
        "id": "bbJRhDSbB5Ci"
      },
      "execution_count": 8,
      "outputs": []
    },
    {
      "cell_type": "code",
      "source": [
        "# Ordenar valores \n",
        "\n",
        "for i in range(0, len(valores), +1):\n",
        "  min = i\n",
        "  for j in range(i+1, len(valores), +1):\n",
        "    if valores[j] < valores[min]:\n",
        "      min = j\n",
        "  valores[i], valores[min] = valores[min], valores[i]\n"
      ],
      "metadata": {
        "id": "rfxI8DH9CTCA"
      },
      "execution_count": 15,
      "outputs": []
    },
    {
      "cell_type": "code",
      "source": [
        "# Verificando igualdade\n",
        "\n",
        "xi = []\n",
        "for i in range(0, len(valores), +1):\n",
        "   if valores[i] not in xi:\n",
        "       xi.append(valores[i])\n"
      ],
      "metadata": {
        "id": "26cL53dGD_Hn"
      },
      "execution_count": 14,
      "outputs": []
    },
    {
      "cell_type": "code",
      "source": [
        "# Separar ocorrências\n",
        "\n",
        "fi = []\n",
        "\n",
        "for i in range(0, len(xi), +1):\n",
        "    fi.append(0)\n",
        "    for j in range(0, len(valores), +1):\n",
        "        if xi[i] == valores[j]:\n",
        "            fi[i] += 1\n",
        "            "
      ],
      "metadata": {
        "id": "37ayjyD5E0G-"
      },
      "execution_count": 13,
      "outputs": []
    }
  ]
}