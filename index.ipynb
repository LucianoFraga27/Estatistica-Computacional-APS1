{
  "nbformat": 4,
  "nbformat_minor": 0,
  "metadata": {
    "colab": {
      "name": "index.ipynb",
      "provenance": [],
      "collapsed_sections": [],
      "authorship_tag": "ABX9TyMkkRF8MYkOiFwQfWY8ZvqP",
      "include_colab_link": true
    },
    "kernelspec": {
      "name": "python3",
      "display_name": "Python 3"
    },
    "language_info": {
      "name": "python"
    }
  },
  "cells": [
    {
      "cell_type": "markdown",
      "metadata": {
        "id": "view-in-github",
        "colab_type": "text"
      },
      "source": [
        "<a href=\"https://colab.research.google.com/github/LucianoFraga27/Estatistica-Computacional-APS1/blob/main/index.ipynb\" target=\"_parent\"><img src=\"https://colab.research.google.com/assets/colab-badge.svg\" alt=\"Open In Colab\"/></a>"
      ]
    },
    {
      "cell_type": "code",
      "execution_count": 39,
      "metadata": {
        "id": "3LW2WhFr_7Ih"
      },
      "outputs": [],
      "source": [
        "# APS1 - Estatística Computacional - Professor: Charles Santiago Bastos.\n",
        "#\n",
        "# Aluno: Luciano Fraga Lopes; Matrícula: 20102775."
      ]
    },
    {
      "cell_type": "code",
      "source": [
        "# Funções\n",
        "\n",
        "def acumuladas(xi, fr, fra):\n",
        "  soma = 0\n",
        "  for i in range(0, len(xi), +1):\n",
        "    soma = soma + fr[i]\n",
        "    fra.append(soma)"
      ],
      "metadata": {
        "id": "A_C6RaIDHLaF"
      },
      "execution_count": 40,
      "outputs": []
    },
    {
      "cell_type": "code",
      "source": [
        "\n"
      ],
      "metadata": {
        "id": "wMxi6eJdBoBu"
      },
      "execution_count": 40,
      "outputs": []
    },
    {
      "cell_type": "code",
      "source": [
        "# Listando valores para teste\n",
        "\n",
        "valores = [3, 4, 4, 4, 5, 5, 5, 5, 6, 6, 6, 6, 6, 6, 7, 7, 7, 7, 7, 8, 8, 8, 8, 9, 9]\n"
      ],
      "metadata": {
        "id": "bbJRhDSbB5Ci"
      },
      "execution_count": 41,
      "outputs": []
    },
    {
      "cell_type": "code",
      "source": [
        "# Ordenar valores \n",
        "\n",
        "for i in range(0, len(valores), +1):\n",
        "  min = i\n",
        "  for j in range(i+1, len(valores), +1):\n",
        "    if valores[j] < valores[min]:\n",
        "      min = j\n",
        "  valores[i], valores[min] = valores[min], valores[i]\n"
      ],
      "metadata": {
        "id": "rfxI8DH9CTCA"
      },
      "execution_count": 42,
      "outputs": []
    },
    {
      "cell_type": "code",
      "source": [
        "# Verificando igualdade\n",
        "\n",
        "xi = []\n",
        "for i in range(0, len(valores), +1):\n",
        "   if valores[i] not in xi:\n",
        "       xi.append(valores[i])\n"
      ],
      "metadata": {
        "id": "26cL53dGD_Hn"
      },
      "execution_count": 43,
      "outputs": []
    },
    {
      "cell_type": "code",
      "source": [
        "# Separar ocorrências\n",
        "\n",
        "fi = []\n",
        "\n",
        "for i in range(0, len(xi), +1):\n",
        "    fi.append(0)\n",
        "    for j in range(0, len(valores), +1):\n",
        "        if xi[i] == valores[j]:\n",
        "            fi[i] += 1\n",
        "            "
      ],
      "metadata": {
        "id": "37ayjyD5E0G-"
      },
      "execution_count": 44,
      "outputs": []
    },
    {
      "cell_type": "code",
      "source": [
        "# Frequência acumulada\n",
        "\n",
        "soma = 0\n",
        "Fi = []\n",
        "\n",
        "acumuladas(xi, fi, Fi)\n",
        "\n",
        "n = (Fi[len(Fi)-1]) # Total \n"
      ],
      "metadata": {
        "colab": {
          "base_uri": "https://localhost:8080/"
        },
        "id": "9HM_3F1BFGsT",
        "outputId": "810c78cb-7d7d-4d66-809b-b101c2d23a3e"
      },
      "execution_count": 48,
      "outputs": [
        {
          "output_type": "stream",
          "name": "stdout",
          "text": [
            "[]\n",
            "[1, 4, 8, 14, 19, 23, 25]\n"
          ]
        }
      ]
    },
    {
      "cell_type": "code",
      "source": [
        "# Frequência relativas absolutas\n",
        "\n",
        "fri = []\n",
        "for i in range(0, len(xi), +1):\n",
        "    calculo = float((fi[i]/n)*100)\n",
        "    fri.append(calculo)\n",
        "    "
      ],
      "metadata": {
        "id": "29O1PfsYFuxI"
      },
      "execution_count": 46,
      "outputs": []
    },
    {
      "cell_type": "code",
      "source": [
        "# Frequências relativas acumuladas\n",
        "\n",
        "soma = 0\n",
        "Fri = []\n",
        "for i in range(0, len(xi), +1):\n",
        "    soma = soma + fri[i]\n",
        "    Fri.append(soma)\n",
        "\n",
        "t_fri = (Fri[len(Fri)-1]) # Total fri\n"
      ],
      "metadata": {
        "id": "yEg9TDkBGVh7"
      },
      "execution_count": 47,
      "outputs": []
    },
    {
      "cell_type": "code",
      "source": [
        ""
      ],
      "metadata": {
        "id": "jsBRHGRWHC5D"
      },
      "execution_count": 47,
      "outputs": []
    }
  ]
}