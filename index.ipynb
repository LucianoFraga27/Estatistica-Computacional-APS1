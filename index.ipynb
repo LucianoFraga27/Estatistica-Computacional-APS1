{
  "nbformat": 4,
  "nbformat_minor": 0,
  "metadata": {
    "colab": {
      "name": "index.ipynb",
      "provenance": [],
      "collapsed_sections": [],
      "authorship_tag": "ABX9TyOf5BSy7KDOZF6ArswiSNyN",
      "include_colab_link": true
    },
    "kernelspec": {
      "name": "python3",
      "display_name": "Python 3"
    },
    "language_info": {
      "name": "python"
    }
  },
  "cells": [
    {
      "cell_type": "markdown",
      "metadata": {
        "id": "view-in-github",
        "colab_type": "text"
      },
      "source": [
        "<a href=\"https://colab.research.google.com/github/LucianoFraga27/Estatistica-Computacional-APS1/blob/main/index.ipynb\" target=\"_parent\"><img src=\"https://colab.research.google.com/assets/colab-badge.svg\" alt=\"Open In Colab\"/></a>"
      ]
    },
    {
      "cell_type": "code",
      "execution_count": 91,
      "metadata": {
        "id": "3LW2WhFr_7Ih"
      },
      "outputs": [],
      "source": [
        "# APS1 - Estatística Computacional - Professor: Charles Santiago Bastos.\n",
        "#\n",
        "# Aluno: Luciano Fraga Lopes; Matrícula: 20102775."
      ]
    },
    {
      "cell_type": "code",
      "source": [
        "import pandas as pd\n",
        "import plotly.express as px"
      ],
      "metadata": {
        "id": "mPvXjeV5MZhl"
      },
      "execution_count": 92,
      "outputs": []
    },
    {
      "cell_type": "code",
      "source": [
        "def acumuladas(xi, f, fa):\n",
        "  \n",
        "  \"\"\"\n",
        "  -> Acumula a frequencia(f) desejada:\n",
        "  :param: xi: Valores verificados por padrão de igualdade;\n",
        "  :param: f:  Frequencia, relativa ou não, de base para acumular;\n",
        "  :param: fa: Nova frenquencia, relativa ou não, acumulada;\n",
        "  :return: Nova frenquencia, relativa ou não, acumulada preenchida.\n",
        "  \"\"\"\n",
        "\n",
        "  soma = 0\n",
        "  for i in range(0, len(xi), +1):\n",
        "    soma = soma + f[i]\n",
        "    fa.append(soma)\n",
        "  return fa"
      ],
      "metadata": {
        "id": "A_C6RaIDHLaF"
      },
      "execution_count": 93,
      "outputs": []
    },
    {
      "cell_type": "code",
      "source": [
        "# Listando valores para teste\n",
        "\n",
        "valores = [3, 4, 4, 4, 5, 5, 5, 5, 6, 6, 6, 6, 6, 6, 7, 7, 7, 7, 7, 8, 8, 8, 8, 9, 9]\n"
      ],
      "metadata": {
        "id": "bbJRhDSbB5Ci"
      },
      "execution_count": 94,
      "outputs": []
    },
    {
      "cell_type": "code",
      "source": [
        "# Ordenar valores \n",
        "\n",
        "for i in range(0, len(valores), +1):\n",
        "  min = i\n",
        "  for j in range(i+1, len(valores), +1):\n",
        "    if valores[j] < valores[min]:\n",
        "      min = j\n",
        "  valores[i], valores[min] = valores[min], valores[i]\n"
      ],
      "metadata": {
        "id": "rfxI8DH9CTCA"
      },
      "execution_count": 95,
      "outputs": []
    },
    {
      "cell_type": "code",
      "source": [
        "# Verificando igualdade\n",
        "\n",
        "xi = []\n",
        "for i in range(0, len(valores), +1):\n",
        "   if valores[i] not in xi:\n",
        "       xi.append(valores[i])\n"
      ],
      "metadata": {
        "id": "26cL53dGD_Hn"
      },
      "execution_count": 96,
      "outputs": []
    },
    {
      "cell_type": "code",
      "source": [
        "# Separar ocorrências\n",
        "\n",
        "fi = []\n",
        "\n",
        "for i in range(0, len(xi), +1):\n",
        "    fi.append(0)\n",
        "    for j in range(0, len(valores), +1):\n",
        "        if xi[i] == valores[j]:\n",
        "            fi[i] += 1\n",
        "            "
      ],
      "metadata": {
        "id": "37ayjyD5E0G-"
      },
      "execution_count": 97,
      "outputs": []
    },
    {
      "cell_type": "code",
      "source": [
        "# Frequência acumulada\n",
        "\n",
        "\n",
        "Fi = []\n",
        "acumuladas(xi, fi, Fi)\n",
        "\n",
        "n = (Fi[len(Fi)-1]) # Total fi\n"
      ],
      "metadata": {
        "id": "9HM_3F1BFGsT"
      },
      "execution_count": 98,
      "outputs": []
    },
    {
      "cell_type": "code",
      "source": [
        "# Frequência relativas absolutas\n",
        "\n",
        "fri = []\n",
        "for i in range(0, len(xi), +1):\n",
        "    calculo = float((fi[i]/n)*100)\n",
        "    fri.append(calculo)\n",
        "    "
      ],
      "metadata": {
        "id": "29O1PfsYFuxI"
      },
      "execution_count": 99,
      "outputs": []
    },
    {
      "cell_type": "code",
      "source": [
        "# Frequências relativas acumuladas\n",
        "\n",
        "Fri = []\n",
        "acumuladas(xi, fri, Fri)\n",
        "\n",
        "t_fri = (Fri[len(Fri)-1]) # Total fri\n"
      ],
      "metadata": {
        "id": "yEg9TDkBGVh7"
      },
      "execution_count": 100,
      "outputs": []
    },
    {
      "cell_type": "code",
      "source": [
        "# Criando tabela\n",
        "\n",
        "tabela = pd.DataFrame(data = {\"Notas(xi)\":xi,\n",
        "                              \"N de alunos(fi)\":fi,\n",
        "                              \"Fi\":Fi,\n",
        "                              \"fri\":fri,\n",
        "                              \"Fri\":Fri\n",
        "                              })\n"
      ],
      "metadata": {
        "id": "jsBRHGRWHC5D"
      },
      "execution_count": 101,
      "outputs": []
    },
    {
      "cell_type": "code",
      "source": [
        "# Exibindo resultados\n",
        "\n",
        "print(f\"ROL: {valores}\")\n",
        "print()\n",
        "print(tabela)\n",
        "#display(tabela) \n",
        "print(f\"  Total                    {n}  --  {t_fri}  ---\")"
      ],
      "metadata": {
        "colab": {
          "base_uri": "https://localhost:8080/"
        },
        "id": "hAVP3MMPNL3Y",
        "outputId": "1598700e-1dd7-48ae-faca-f12c0914d7bb"
      },
      "execution_count": 102,
      "outputs": [
        {
          "output_type": "stream",
          "name": "stdout",
          "text": [
            "ROL: [3, 4, 4, 4, 5, 5, 5, 5, 6, 6, 6, 6, 6, 6, 7, 7, 7, 7, 7, 8, 8, 8, 8, 9, 9]\n",
            "\n",
            "   Notas(xi)  N de alunos(fi)  Fi   fri    Fri\n",
            "0          3                1   1   4.0    4.0\n",
            "1          4                3   4  12.0   16.0\n",
            "2          5                4   8  16.0   32.0\n",
            "3          6                6  14  24.0   56.0\n",
            "4          7                5  19  20.0   76.0\n",
            "5          8                4  23  16.0   92.0\n",
            "6          9                2  25   8.0  100.0\n",
            "  Total                    25  --  100.0  ---\n"
          ]
        }
      ]
    },
    {
      "cell_type": "code",
      "source": [
        ""
      ],
      "metadata": {
        "id": "fhq_2FHJNuQF"
      },
      "execution_count": null,
      "outputs": []
    }
  ]
}